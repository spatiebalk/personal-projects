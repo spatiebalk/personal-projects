{
 "cells": [
  {
   "cell_type": "markdown",
   "metadata": {},
   "source": [
    "## Hangman game\n",
    "In this notebook the simple game of hangman will be made to be played interactively."
   ]
  },
  {
   "cell_type": "code",
   "execution_count": 1,
   "metadata": {},
   "outputs": [],
   "source": [
    "import random"
   ]
  },
  {
   "cell_type": "code",
   "execution_count": 2,
   "metadata": {},
   "outputs": [],
   "source": [
    "# To get a vocabulary consisting of the 1000 most common English words\n",
    "words = open(\"common_words.txt\",'r').read().split('\\n')"
   ]
  },
  {
   "cell_type": "code",
   "execution_count": 4,
   "metadata": {},
   "outputs": [
    {
     "name": "stdout",
     "output_type": "stream",
     "text": [
      "Welcome to the game of hangman! \n",
      "You can guess one character a time. \n",
      "There is maximum of 7 mistakes\n",
      "_ _ _ _ _ _ \n",
      "\n",
      "Which character do you want to guess? e\n",
      "_ _ _ _ e _ \n",
      "\n",
      "Which character do you want to guess? a\n",
      "The word doesn't contain that character. You have made 1/7 mistakes so far\n",
      "_ _ _ _ e _ \n",
      "\n",
      "Which character do you want to guess? i\n",
      "The word doesn't contain that character. You have made 2/7 mistakes so far\n",
      "_ _ _ _ e _ \n",
      "\n",
      "Which character do you want to guess? u\n",
      "_ u _ _ e _ \n",
      "\n",
      "Which character do you want to guess? b\n",
      "b u _ _ e _ \n",
      "\n",
      "Which character do you want to guess? s\n",
      "The word doesn't contain that character. You have made 3/7 mistakes so far\n",
      "b u _ _ e _ \n",
      "\n",
      "Which character do you want to guess? r\n",
      "The word doesn't contain that character. You have made 4/7 mistakes so far\n",
      "b u _ _ e _ \n",
      "\n",
      "Which character do you want to guess? t\n",
      "b u _ _ e t \n",
      "\n",
      "Which character do you want to guess? l\n",
      "The word doesn't contain that character. You have made 5/7 mistakes so far\n",
      "b u _ _ e t \n",
      "\n",
      "Which character do you want to guess? n\n",
      "The word doesn't contain that character. You have made 6/7 mistakes so far\n",
      "b u _ _ e t \n",
      "\n",
      "Which character do you want to guess? f\n",
      "The word doesn't contain that character. You have made 7/7 mistakes so far\n",
      "You lost the game. \n",
      " The word was budget\n"
     ]
    }
   ],
   "source": [
    "# pick a random word\n",
    "word = random.choice(words)\n",
    "\n",
    "# display the lines for the letters\n",
    "display = []\n",
    "for letter in range(0, len(word)):\n",
    "    display += \"_ \"\n",
    "    \n",
    "# set number of maximum mistakes    \n",
    "mistakes = 0\n",
    "max_mistakes = 7\n",
    "letters_to_guess = len(word)\n",
    "\n",
    "# welcome message\n",
    "print(\"Welcome to the game of hangman! \\nYou can guess one character a time. \\nThere is maximum of {} mistakes\".format(max_mistakes))\n",
    "\n",
    "# while not too many mistakes have been made and not all letters have been guessed:\n",
    "while(mistakes < max_mistakes and letters_to_guess > 0):\n",
    "    print(\"\".join(display))\n",
    "    \n",
    "    # ask the user for character\n",
    "    character = input(\"\\nWhich character do you want to guess? \")\n",
    "    \n",
    "    # compare character with chosen word\n",
    "    if character in word:\n",
    "        letters_to_guess -= word.count(character)\n",
    "        \n",
    "        # get all indices of character occurences in chosen word and replace them with character\n",
    "        indices = [i for i, x in enumerate(word) if x == character]\n",
    "        for index in indices:\n",
    "            display[index*2] = character\n",
    "        \n",
    "    else:\n",
    "        mistakes += 1 \n",
    "        print(\"The word doesn't contain that character. You have made {}/{} mistakes so far\".format(mistakes, max_mistakes))      \n",
    "\n",
    "if (letters_to_guess == 0):\n",
    "    print(\"You won the game! \\n You guessed to word {} with {} mistakes.\".format(word, mistakes))\n",
    "else: \n",
    "    print(\"You lost the game. \\n The word was {}\".format(word))\n"
   ]
  },
  {
   "cell_type": "code",
   "execution_count": null,
   "metadata": {},
   "outputs": [],
   "source": []
  },
  {
   "cell_type": "code",
   "execution_count": null,
   "metadata": {},
   "outputs": [],
   "source": []
  }
 ],
 "metadata": {
  "kernelspec": {
   "display_name": "Python 3",
   "language": "python",
   "name": "python3"
  },
  "language_info": {
   "codemirror_mode": {
    "name": "ipython",
    "version": 3
   },
   "file_extension": ".py",
   "mimetype": "text/x-python",
   "name": "python",
   "nbconvert_exporter": "python",
   "pygments_lexer": "ipython3",
   "version": "3.5.6"
  }
 },
 "nbformat": 4,
 "nbformat_minor": 2
}
