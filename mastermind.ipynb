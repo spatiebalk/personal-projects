{
 "cells": [
  {
   "cell_type": "markdown",
   "metadata": {},
   "source": [
    "## Mastermind\n",
    "In this notebook the simple game of mastermind will be made to be played interactively."
   ]
  },
  {
   "cell_type": "code",
   "execution_count": 7,
   "metadata": {},
   "outputs": [],
   "source": [
    "import ipywidgets as widgets\n",
    "import random \n",
    "from ipywidgets import HBox\n",
    "import time"
   ]
  },
  {
   "cell_type": "code",
   "execution_count": 8,
   "metadata": {},
   "outputs": [],
   "source": [
    "# get a sequence of 4 colours\n",
    "seq = [0, 1, 2, 3]\n",
    "solution = []\n",
    "\n",
    "for i in range(0, 4):\n",
    "    solution.append(random.choice(seq))"
   ]
  },
  {
   "cell_type": "code",
   "execution_count": 9,
   "metadata": {},
   "outputs": [],
   "source": [
    "def get_widget():\n",
    "    menu1 = widgets.Dropdown(\n",
    "       options=[('red', 0), ('blue', 1), ('green', 2), ('yellow', 3)],\n",
    "       value=0,\n",
    "       description='Color:')\n",
    "\n",
    "    menu2 = widgets.Dropdown(\n",
    "           options=[('red', 0), ('blue', 1), ('green', 2), ('yellow', 3)],\n",
    "           value=0,\n",
    "           description='Color:')\n",
    "\n",
    "    menu3 = widgets.Dropdown(\n",
    "           options=[('red', 0), ('blue', 1), ('green', 2), ('yellow', 3)],\n",
    "           value=0,\n",
    "           description='Color:')\n",
    "\n",
    "    menu4 = widgets.Dropdown(\n",
    "           options=[('red', 0), ('blue', 1), ('green', 2), ('yellow', 3)],\n",
    "           value=0,\n",
    "           description='Color:')\n",
    "\n",
    "    return  HBox([menu1, menu2, menu3, menu4])\n",
    " "
   ]
  },
  {
   "cell_type": "code",
   "execution_count": 10,
   "metadata": {},
   "outputs": [],
   "source": [
    "def get_input(widget):\n",
    "    [child1, child2, child3, child4] = widget.children\n",
    "    return [child1.value] + [child2.value] + [child3.value] + [child4.value]"
   ]
  },
  {
   "cell_type": "code",
   "execution_count": 11,
   "metadata": {},
   "outputs": [],
   "source": [
    "def check_given_solution(widget):\n",
    "    solution = get_input(widget)\n",
    "    print(\"solution\")\n",
    "    print(solution)\n",
    "    \n",
    "    return False\n"
   ]
  },
  {
   "cell_type": "code",
   "execution_count": 12,
   "metadata": {},
   "outputs": [
    {
     "data": {
      "application/vnd.jupyter.widget-view+json": {
       "model_id": "99b35d1d2bba4e558d7a619d4bdae7f8",
       "version_major": 2,
       "version_minor": 0
      },
      "text/plain": [
       "HBox(children=(Dropdown(description='Color:', options=(('red', 0), ('blue', 1), ('green', 2), ('yellow', 3)), …"
      ]
     },
     "metadata": {},
     "output_type": "display_data"
    },
    {
     "name": "stdout",
     "output_type": "stream",
     "text": [
      "solution\n",
      "[0, 0, 0, 0]\n",
      "None\n"
     ]
    },
    {
     "data": {
      "application/vnd.jupyter.widget-view+json": {
       "model_id": "135c23ad7c4845cba2fd1d8266cdfe0a",
       "version_major": 2,
       "version_minor": 0
      },
      "text/plain": [
       "HBox(children=(Dropdown(description='Color:', options=(('red', 0), ('blue', 1), ('green', 2), ('yellow', 3)), …"
      ]
     },
     "metadata": {},
     "output_type": "display_data"
    },
    {
     "name": "stdout",
     "output_type": "stream",
     "text": [
      "solution\n",
      "[0, 0, 0, 0]\n",
      "None\n"
     ]
    },
    {
     "data": {
      "application/vnd.jupyter.widget-view+json": {
       "model_id": "42d11af9949244549e838fc0049f4081",
       "version_major": 2,
       "version_minor": 0
      },
      "text/plain": [
       "HBox(children=(Dropdown(description='Color:', options=(('red', 0), ('blue', 1), ('green', 2), ('yellow', 3)), …"
      ]
     },
     "metadata": {},
     "output_type": "display_data"
    },
    {
     "name": "stdout",
     "output_type": "stream",
     "text": [
      "solution\n",
      "[0, 0, 0, 0]\n",
      "None\n"
     ]
    },
    {
     "ename": "KeyboardInterrupt",
     "evalue": "",
     "output_type": "error",
     "traceback": [
      "\u001b[1;31m---------------------------------------------------------------------------\u001b[0m",
      "\u001b[1;31mKeyboardInterrupt\u001b[0m                         Traceback (most recent call last)",
      "\u001b[1;32m<ipython-input-12-c1bfe2902db8>\u001b[0m in \u001b[0;36m<module>\u001b[1;34m()\u001b[0m\n\u001b[0;32m     10\u001b[0m \u001b[1;33m\u001b[0m\u001b[0m\n\u001b[0;32m     11\u001b[0m     \u001b[0mprint\u001b[0m\u001b[1;33m(\u001b[0m\u001b[0mcorrect\u001b[0m\u001b[1;33m)\u001b[0m\u001b[1;33m\u001b[0m\u001b[0m\n\u001b[1;32m---> 12\u001b[1;33m     \u001b[0mtime\u001b[0m\u001b[1;33m.\u001b[0m\u001b[0msleep\u001b[0m\u001b[1;33m(\u001b[0m\u001b[1;36m5\u001b[0m\u001b[1;33m)\u001b[0m\u001b[1;33m\u001b[0m\u001b[0m\n\u001b[0m\u001b[0;32m     13\u001b[0m \u001b[1;33m\u001b[0m\u001b[0m\n\u001b[0;32m     14\u001b[0m \u001b[1;33m\u001b[0m\u001b[0m\n",
      "\u001b[1;31mKeyboardInterrupt\u001b[0m: "
     ]
    }
   ],
   "source": [
    "suggested_solution = []\n",
    "\n",
    "while solution != suggested_solution:\n",
    "    widget = get_widget()\n",
    "    display(widget)\n",
    "    button = widgets.Button(description=\"Try answer\")\n",
    "\n",
    "    \n",
    "    correct = button.on_click(check_given_solution(widget))\n",
    "    \n",
    "    print(correct)\n",
    "    time.sleep(5)\n",
    "    \n",
    "    \n",
    "print(\"Answer was correct\")\n",
    "    \n",
    "    "
   ]
  },
  {
   "cell_type": "code",
   "execution_count": 30,
   "metadata": {},
   "outputs": [
    {
     "name": "stdout",
     "output_type": "stream",
     "text": [
      "[2, 1, 3, 1]\n"
     ]
    }
   ],
   "source": [
    "suggested_solution = [menu1.value] + [menu2.value] + [menu3.value] + [menu4.value]\n",
    "\n",
    "print(suggested_solution)"
   ]
  },
  {
   "cell_type": "code",
   "execution_count": null,
   "metadata": {},
   "outputs": [],
   "source": [
    "\n",
    "\n",
    "\n",
    "words = ['correct', 'horse', 'battery', 'staple']\n",
    "items = [Button(description=w) for w in words]\n",
    "left_box = VBox([items[0], items[1]])\n",
    "right_box = VBox([items[2], items[3]])\n",
    "HBox([left_box, right_box])"
   ]
  },
  {
   "cell_type": "code",
   "execution_count": null,
   "metadata": {},
   "outputs": [],
   "source": []
  }
 ],
 "metadata": {
  "kernelspec": {
   "display_name": "Python 3",
   "language": "python",
   "name": "python3"
  },
  "language_info": {
   "codemirror_mode": {
    "name": "ipython",
    "version": 3
   },
   "file_extension": ".py",
   "mimetype": "text/x-python",
   "name": "python",
   "nbconvert_exporter": "python",
   "pygments_lexer": "ipython3",
   "version": "3.5.6"
  }
 },
 "nbformat": 4,
 "nbformat_minor": 2
}
